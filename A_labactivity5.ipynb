{
  "nbformat": 4,
  "nbformat_minor": 0,
  "metadata": {
    "colab": {
      "provenance": [],
      "authorship_tag": "ABX9TyMTWqt1eY8mZ0/5x2UX3wST",
      "include_colab_link": true
    },
    "kernelspec": {
      "name": "python3",
      "display_name": "Python 3"
    },
    "language_info": {
      "name": "python"
    }
  },
  "cells": [
    {
      "cell_type": "markdown",
      "metadata": {
        "id": "view-in-github",
        "colab_type": "text"
      },
      "source": [
        "<a href=\"https://colab.research.google.com/github/olyviah82/compilerconstruction/blob/main/A_labactivity5.ipynb\" target=\"_parent\"><img src=\"https://colab.research.google.com/assets/colab-badge.svg\" alt=\"Open In Colab\"/></a>"
      ]
    },
    {
      "cell_type": "markdown",
      "source": [
        "121455 Olyviah Nyaboke \n",
        "120174 Cynthia Gichuki \n",
        "121759 Shamsa Abdullahi "
      ],
      "metadata": {
        "id": "Qqv7-x6EL8Ch"
      }
    },
    {
      "cell_type": "markdown",
      "source": [
        "Review what syntax analysis is and in a few words, describe what this phase of compiler construction entails"
      ],
      "metadata": {
        "id": "FM4eFfWnMN4i"
      }
    },
    {
      "cell_type": "markdown",
      "source": [
        "\n",
        "\n",
        "\n",
        "> Syntax Analysis also known as parsing: In every programming lannguage has precise rules that prescribes the syntactic structure of well-formed programs.\n",
        "\n",
        "\n",
        ">Syntax Analysis:  It checks the syntactical structure of the given input, i.e. whether the given input is in the correct syntax (of the language in which the input has been written) or not.\n",
        "\n",
        "> It is the second phase of the compiler after the lexical analysis. \n",
        "The parser uses the first components of the tokens produced by the lexical analyzer to create a tree-like intermediate representation that depicts the grammatical structure of the token stream.\n",
        "\n",
        "> The syntax tree is constructed using the pre-defined grammar of the language and the input string.If the input string can be produced with the help of the synatx tree in the derivation process,the input string is found to be in the correct syntax, if not the error is reported by the synatax analyzer.\n",
        "\n",
        "> In this phase, there is a generation of a syntax tree in which each interior node represents an operation and the children of the node represents an operation."
      ],
      "metadata": {
        "id": "9bhE5ftkB0Wc"
      }
    },
    {
      "cell_type": "markdown",
      "source": [
        "Using Flex (lexical analyzer) and Bison (yacc), show how one can develop a simple\n",
        "syntax analyzer. [Consult the web, show and explain the simple codes that you find]."
      ],
      "metadata": {
        "id": "QpNTa75uGaCO"
      }
    },
    {
      "cell_type": "markdown",
      "source": [
        "Flex is a scanner generator tool for lexical analysis, which is based on finite\n",
        "state machine (FSM). The input is a set of regular expressions, and the\n",
        "output is the code to implement the scanner according to the input rules.\n",
        "To implement a scanner for calculator, we can write the file “cal1.l” as\n",
        "below:\n",
        "\n",
        "/* this is only for scanner, not link with parser yet */\n",
        "%{\n",
        "int lineNum = 0;\n",
        "%}\n",
        "%%\n",
        "\"(\" { printf(\"(\\n\"); }\n",
        "\")\" { printf(\")\\n\"); }\n",
        "\"+\" { printf(\"+\\n\"); }\n",
        "\"*\" { printf(\"*\\n\"); }\n",
        "\\n { lineNum++; }\n",
        "[ \\t]+ { }\n",
        "[0-9]+ { printf(\"%s\\n\", yytext); }\n",
        "%%\n",
        "int yywrap() {\n",
        " return 1;\n",
        "}\n",
        "int main () {\n",
        " yylex();\n",
        " return 0;\n",
        "} \n",
        "\n",
        "Here is the Makefile used to build the scanner:\n",
        "p1: lex.yy.o\n",
        " gcc -g -o p1 lex.yy.o\n",
        "lex.yy.o: cal1.l\n",
        " flex cal1.l; gcc -g -c lex.yy.c\n",
        "clean:\n",
        " rm -f p1 *.o lex.yy.c\n",
        " "
      ],
      "metadata": {
        "id": "Fj_UoGcKGgzJ"
      }
    },
    {
      "cell_type": "markdown",
      "source": [
        "Bison is a LALR(1) parser generator tool for syntax analysis, which is based\n",
        "on pushdown automata (PDA). The input is a set of context-free grammar\n",
        "(CFG) rules, and the output is the code to implement the parser according to\n",
        "the input rules.\n",
        "To implement a parser for calculator, we can write the file “cal.y” as below:\n",
        "%{\n",
        " #include <stdio.h>\n",
        "#include <ctype.h>\n",
        "int lineNum = 1;\n",
        "void yyerror(char *ps, ...) { /* need this to avoid\n",
        "link problem */\n",
        " printf(\"%s\\n\", ps);\n",
        "}\n",
        "%}\n",
        "%union {\n",
        " int d;\n",
        "}\n",
        "// need to choose token type from union above\n",
        "%token <d> NUMBER\n",
        "%token '(' ')'\n",
        "%left '+'\n",
        "%left '*'\n",
        "%type <d> exp factor term\n",
        "%start cal\n",
        "%%\n",
        "cal\n",
        " : exp\n",
        " { printf(\"The result is %d\\n\", $1); }\n",
        " ;\n",
        "exp\n",
        " : exp '+' factor\n",
        " { $$ = $1 + $3; }\n",
        " | factor\n",
        " { $$ = $1; }\n",
        " ;\n",
        "factor\n",
        " : factor '*' term\n",
        " { $$ = $1 * $3; }\n",
        " | term\n",
        " { $$ = $1; }\n",
        " ;\n",
        "term\n",
        " : NUMBER\n",
        " { $$ = $1; }\n",
        " | '(' exp ')'\n",
        " { $$ = $2; }\n",
        " ;\n",
        "%%\n",
        "int main() {\n",
        " yyparse();\n",
        " return 0;\n",
        "} "
      ],
      "metadata": {
        "id": "4O_pDCWkLgQd"
      }
    },
    {
      "cell_type": "markdown",
      "source": [
        "To integrate both the scanner and parser, we need to modify the scanner\n",
        "input file “cal1.l” and save it as “cal.l” as below:\n",
        "%{\n",
        "#include <stdlib.h> /* for atoi call */\n",
        "#define DEBUG /* for debuging: print tokens and\n",
        "their line numbers */\n",
        "#define NUMBER 258 /* copy this from cal.tab.c */\n",
        "typedef union { /* copy this from cal.tab.c */\n",
        " int d;\n",
        "} YYSTYPE;\n",
        "YYSTYPE yylval; /* for passing value to parser */\n",
        "extern int lineNum; /* line number from cal.tab.c */\n",
        "%}\n",
        "%%\n",
        "[ \\t]+ {}\n",
        "[\\n] { lineNum++; }\n",
        "\"(\" {\n",
        "#ifdef DEBUG\n",
        " printf(\"token '(' at line %d\\n\", lineNum);\n",
        "#endif\n",
        " return '(';\n",
        " }\n",
        "\")\" {\n",
        "#ifdef DEBUG\n",
        " printf(\"token ')' at line %d\\n\", lineNum);\n",
        "#endif\n",
        " return ')';\n",
        " }\n",
        "\"+\" {\n",
        "#ifdef DEBUG\n",
        " printf(\"token '+' at line %d\\n\", lineNum);\n",
        "#endif\n",
        " return '+';\n",
        " }\n",
        "\"*\" {\n",
        "#ifdef DEBUG\n",
        " printf(\"token '*' at line %d\\n\", lineNum);\n",
        "#endif\n",
        " return '*';\n",
        " }\n",
        "[0-9]+ {\n",
        "#ifdef DEBUG\n",
        " printf(\"token %s at line %d\\n\", yytext, lineNum);\n",
        "#endif\n",
        " yylval.d = atoi(yytext);\n",
        " return NUMBER;\n",
        "}\n",
        "%%\n",
        "int yywrap() { /* need this to avoid link problem */\n",
        " return 1;\n",
        "} "
      ],
      "metadata": {
        "id": "msCZ3u8eLrCG"
      }
    }
  ]
}